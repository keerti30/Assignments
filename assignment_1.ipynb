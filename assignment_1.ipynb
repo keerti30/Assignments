{
 "cells": [
  {
   "attachments": {},
   "cell_type": "markdown",
   "metadata": {},
   "source": [
    "Ans-1: Python was created by Guido van Rossum, and first released on February 20, 1991."
   ]
  },
  {
   "attachments": {},
   "cell_type": "markdown",
   "metadata": {},
   "source": [
    "Ans-2: Object-oriented programming and structured programming are supported by python programming language."
   ]
  },
  {
   "attachments": {},
   "cell_type": "markdown",
   "metadata": {},
   "source": [
    "Ans-3: Yes, Python is a case-sensitive language, i.e., it treats uppercase and lowercase characters differently. This applies to identifiers too."
   ]
  },
  {
   "attachments": {},
   "cell_type": "markdown",
   "metadata": {},
   "source": [
    "Ans-4: The correct extension of python file is .py"
   ]
  },
  {
   "attachments": {},
   "cell_type": "markdown",
   "metadata": {},
   "source": [
    "Ans-5: Python code is both compiled and interpreted."
   ]
  },
  {
   "attachments": {},
   "cell_type": "markdown",
   "metadata": {},
   "source": [
    "Ans-6: loops(for and while)\n",
    "\tconditional statements\n",
    "\t(if-else)functions"
   ]
  },
  {
   "attachments": {},
   "cell_type": "markdown",
   "metadata": {},
   "source": [
    "Ans-7: hash character(#)is used to give single_line command in python "
   ]
  },
  {
   "attachments": {},
   "cell_type": "markdown",
   "metadata": {},
   "source": [
    "Ans-8: sys.version is used for finding the version of python"
   ]
  },
  {
   "attachments": {},
   "cell_type": "markdown",
   "metadata": {},
   "source": [
    "Ans-9: lambda"
   ]
  },
  {
   "attachments": {},
   "cell_type": "markdown",
   "metadata": {},
   "source": [
    "Ans-10: pip stands for Preferred Installer Program "
   ]
  },
  {
   "attachments": {},
   "cell_type": "markdown",
   "metadata": {},
   "source": [
    "Ans-11: print()\n",
    "\ttype()\n",
    "\tlen()\n",
    "\tint()\n",
    "\teval()\n",
    "\tsort()"
   ]
  },
  {
   "attachments": {},
   "cell_type": "markdown",
   "metadata": {},
   "source": [
    "Ans-12: The maximum possible length of an identifier is 79 characters"
   ]
  },
  {
   "attachments": {},
   "cell_type": "markdown",
   "metadata": {},
   "source": [
    "Ans-13: Easy to read, learn and write\n",
    "\tHigh-level language\n",
    "\tPortable and Interactive\n",
    "\tExtensive support libraries"
   ]
  },
  {
   "attachments": {},
   "cell_type": "markdown",
   "metadata": {},
   "source": [
    "Ans-14: Memory management in Python involves a private heap containing all Python objects and data structures.\n",
    "The private heap is managed internally by the Python memory manager."
   ]
  },
  {
   "attachments": {},
   "cell_type": "markdown",
   "metadata": {},
   "source": [
    "Ans-15:go to browser write python download,click python download and dowloading start.\n",
    "\tafter download go to the download folder and click on and install it.\n",
    "\tafter installation go to cmd and write python -v if python version comes then python is installed in your computer.\n",
    "\tif version is not come then you have to set the path variable.\n",
    "\tclick on start button and type environment.\n",
    "\tclick on bottom right environment variable. \n",
    "\tgo to user variable and path variable and click on it.\n",
    "\tclick on new and copy the python path where you python is installed.\n",
    "\tclick ok"
   ]
  },
  {
   "attachments": {},
   "cell_type": "markdown",
   "metadata": {},
   "source": [
    "Ans-16: Indentation is mandatory in python to define the blocks of statements.\n",
    "\tIt is preferred to use whitespaces to indent in python.\n",
    "\twhile other programming language such as C and Java uses curly braces."
   ]
  }
 ],
 "metadata": {
  "kernelspec": {
   "display_name": "Python 3",
   "language": "python",
   "name": "python3"
  },
  "language_info": {
   "name": "python",
   "version": "3.10.4 (tags/v3.10.4:9d38120, Mar 23 2022, 23:13:41) [MSC v.1929 64 bit (AMD64)]"
  },
  "orig_nbformat": 4,
  "vscode": {
   "interpreter": {
    "hash": "119b43f7f0e8d782127c9f8f73067a1a29dadc70214d0cb5f7396a674ce8d2a6"
   }
  }
 },
 "nbformat": 4,
 "nbformat_minor": 2
}
